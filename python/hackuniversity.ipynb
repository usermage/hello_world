{
 "cells": [
  {
   "cell_type": "code",
   "execution_count": 4,
   "metadata": {
    "collapsed": true
   },
   "outputs": [],
   "source": [
    "DATA_DIR = \"/home/user/newnew/\""
   ]
  },
  {
   "cell_type": "code",
   "execution_count": 5,
   "metadata": {
    "collapsed": true
   },
   "outputs": [],
   "source": [
    "import numpy as np\n",
    "import pandas as pd\n",
    "\n",
    "from sklearn.cross_validation import train_test_split\n",
    "from sklearn.preprocessing import LabelEncoder\n",
    "from sklearn.ensemble import RandomForestClassifier\n",
    "from sklearn.metrics import f1_score\n",
    "from sklearn.externals import joblib\n",
    "\n",
    "import socket, struct"
   ]
  },
  {
   "cell_type": "markdown",
   "metadata": {},
   "source": [
    "# Загрузка данных"
   ]
  },
  {
   "cell_type": "code",
   "execution_count": 6,
   "metadata": {
    "collapsed": false
   },
   "outputs": [],
   "source": [
    "packets_1 = pd.read_csv(DATA_DIR + \"1\")\n",
    "packets_2 = pd.read_csv(DATA_DIR + \"2\")\n",
    "packets_3 = pd.read_csv(DATA_DIR + \"3\")\n",
    "packets_4 = pd.read_csv(DATA_DIR + \"4\")\n",
    "packets_1['uid'] = 1\n",
    "packets_2['uid'] = 2\n",
    "packets_3['uid'] = 3\n",
    "packets_4['uid'] = 4\n",
    "packets = packets_1.append([packets_2, packets_3, packets_4])"
   ]
  },
  {
   "cell_type": "code",
   "execution_count": 7,
   "metadata": {
    "collapsed": false
   },
   "outputs": [
    {
     "data": {
      "text/html": [
       "<div>\n",
       "<table border=\"1\" class=\"dataframe\">\n",
       "  <thead>\n",
       "    <tr style=\"text-align: right;\">\n",
       "      <th></th>\n",
       "      <th>No.</th>\n",
       "      <th>Time</th>\n",
       "      <th>Source</th>\n",
       "      <th>Destination</th>\n",
       "      <th>Protocol</th>\n",
       "      <th>Length</th>\n",
       "      <th>Info</th>\n",
       "      <th>uid</th>\n",
       "    </tr>\n",
       "  </thead>\n",
       "  <tbody>\n",
       "    <tr>\n",
       "      <th>0</th>\n",
       "      <td>1</td>\n",
       "      <td>02:54:43,303578</td>\n",
       "      <td>ZyxelCom_9f:c2:bc</td>\n",
       "      <td>Broadcast</td>\n",
       "      <td>ARP</td>\n",
       "      <td>42</td>\n",
       "      <td>Who has 192.168.1.34? Tell 192.168.1.1</td>\n",
       "      <td>1</td>\n",
       "    </tr>\n",
       "    <tr>\n",
       "      <th>1</th>\n",
       "      <td>2</td>\n",
       "      <td>02:54:46,539389</td>\n",
       "      <td>192.168.1.37</td>\n",
       "      <td>192.168.1.1</td>\n",
       "      <td>DNS</td>\n",
       "      <td>67</td>\n",
       "      <td>Standard query 0x3a69 A dnzl.ru</td>\n",
       "      <td>1</td>\n",
       "    </tr>\n",
       "    <tr>\n",
       "      <th>2</th>\n",
       "      <td>3</td>\n",
       "      <td>02:54:46,544422</td>\n",
       "      <td>192.168.1.37</td>\n",
       "      <td>192.168.1.1</td>\n",
       "      <td>DNS</td>\n",
       "      <td>80</td>\n",
       "      <td>Standard query 0x978b A adservice.google.com</td>\n",
       "      <td>1</td>\n",
       "    </tr>\n",
       "    <tr>\n",
       "      <th>3</th>\n",
       "      <td>4</td>\n",
       "      <td>02:54:46,547250</td>\n",
       "      <td>192.168.1.37</td>\n",
       "      <td>192.168.1.1</td>\n",
       "      <td>DNS</td>\n",
       "      <td>79</td>\n",
       "      <td>Standard query 0x81fc A adservice.google.ru</td>\n",
       "      <td>1</td>\n",
       "    </tr>\n",
       "    <tr>\n",
       "      <th>4</th>\n",
       "      <td>5</td>\n",
       "      <td>02:54:46,548343</td>\n",
       "      <td>192.168.1.1</td>\n",
       "      <td>192.168.1.37</td>\n",
       "      <td>DNS</td>\n",
       "      <td>296</td>\n",
       "      <td>Standard query response 0x3a69 A dnzl.ru A 77....</td>\n",
       "      <td>1</td>\n",
       "    </tr>\n",
       "  </tbody>\n",
       "</table>\n",
       "</div>"
      ],
      "text/plain": [
       "   No.             Time             Source   Destination Protocol  Length  \\\n",
       "0    1  02:54:43,303578  ZyxelCom_9f:c2:bc     Broadcast      ARP      42   \n",
       "1    2  02:54:46,539389       192.168.1.37   192.168.1.1      DNS      67   \n",
       "2    3  02:54:46,544422       192.168.1.37   192.168.1.1      DNS      80   \n",
       "3    4  02:54:46,547250       192.168.1.37   192.168.1.1      DNS      79   \n",
       "4    5  02:54:46,548343        192.168.1.1  192.168.1.37      DNS     296   \n",
       "\n",
       "                                                Info  uid  \n",
       "0             Who has 192.168.1.34? Tell 192.168.1.1    1  \n",
       "1                    Standard query 0x3a69 A dnzl.ru    1  \n",
       "2       Standard query 0x978b A adservice.google.com    1  \n",
       "3        Standard query 0x81fc A adservice.google.ru    1  \n",
       "4  Standard query response 0x3a69 A dnzl.ru A 77....    1  "
      ]
     },
     "execution_count": 7,
     "metadata": {},
     "output_type": "execute_result"
    }
   ],
   "source": [
    "packets.head()"
   ]
  },
  {
   "cell_type": "code",
   "execution_count": 8,
   "metadata": {
    "collapsed": true
   },
   "outputs": [],
   "source": [
    "def ip2int(addr):                                                               \n",
    "    try:\n",
    "        return struct.unpack(\"!I\", socket.inet_aton(addr))[0]                       \n",
    "    except OSError:\n",
    "        return 0"
   ]
  },
  {
   "cell_type": "code",
   "execution_count": 9,
   "metadata": {
    "collapsed": true
   },
   "outputs": [],
   "source": [
    "def encode(x, enc):\n",
    "    try:\n",
    "        return enc.transform(x)\n",
    "    except ValueError:\n",
    "        return -1"
   ]
  },
  {
   "cell_type": "code",
   "execution_count": 10,
   "metadata": {
    "collapsed": true
   },
   "outputs": [],
   "source": [
    "def preprocessing(packets, label_encoder):\n",
    "    pd.options.mode.chained_assignment = None\n",
    "    packets[\"Source\"] = packets[\"Source\"].apply(lambda ip : ip2int(ip)).astype(np.int32)\n",
    "    packets[\"Destination\"] = packets[\"Destination\"].apply(lambda ip : ip2int(ip)).astype(np.int32)\n",
    "    packets[\"Protocol\"] = packets[\"Protocol\"].apply(lambda x: encode(x, label_encoder))"
   ]
  },
  {
   "cell_type": "markdown",
   "metadata": {},
   "source": [
    "# Подготовка данных"
   ]
  },
  {
   "cell_type": "code",
   "execution_count": 11,
   "metadata": {
    "collapsed": false
   },
   "outputs": [
    {
     "name": "stdout",
     "output_type": "stream",
     "text": [
      "CPU times: user 1.03 s, sys: 52 ms, total: 1.08 s\n",
      "Wall time: 1.02 s\n"
     ]
    }
   ],
   "source": [
    "%%time\n",
    "le = LabelEncoder().fit(packets[\"Protocol\"])\n",
    "X = packets[[\"Source\", \"Destination\", \"Protocol\", \"Length\"]]\n",
    "preprocessing(X, le)\n",
    "y = packets[\"uid\"]"
   ]
  },
  {
   "cell_type": "markdown",
   "metadata": {},
   "source": [
    "# Разделение на тренировочную и тестовую выборки"
   ]
  },
  {
   "cell_type": "code",
   "execution_count": 16,
   "metadata": {
    "collapsed": false
   },
   "outputs": [
    {
     "name": "stdout",
     "output_type": "stream",
     "text": [
      "CPU times: user 8 ms, sys: 4 ms, total: 12 ms\n",
      "Wall time: 12.6 ms\n"
     ]
    }
   ],
   "source": [
    "%%time\n",
    "X_train, X_holdout, y_train, y_holdout = train_test_split(X, y, test_size=0.3, random_state=17)"
   ]
  },
  {
   "cell_type": "markdown",
   "metadata": {},
   "source": [
    "# Обучение"
   ]
  },
  {
   "cell_type": "code",
   "execution_count": 17,
   "metadata": {
    "collapsed": false
   },
   "outputs": [
    {
     "name": "stdout",
     "output_type": "stream",
     "text": [
      "0.933995715999\n",
      "CPU times: user 108 ms, sys: 8 ms, total: 116 ms\n",
      "Wall time: 233 ms\n"
     ]
    }
   ],
   "source": [
    "%%time\n",
    "forest = RandomForestClassifier(n_jobs=-1, random_state=17)\n",
    "forest.fit(X_train, y_train)\n",
    "print(f1_score(y_holdout, forest.predict(X_holdout), average='macro'))"
   ]
  },
  {
   "cell_type": "markdown",
   "metadata": {},
   "source": [
    "# Проверка на случайных данных"
   ]
  },
  {
   "cell_type": "code",
   "execution_count": 18,
   "metadata": {
    "collapsed": true
   },
   "outputs": [],
   "source": [
    "p1 = packets_1.sample(n=100)[[\"Source\", \"Destination\", \"Protocol\", \"Length\"]]\n",
    "p2 = packets_2.sample(n=100)[[\"Source\", \"Destination\", \"Protocol\", \"Length\"]]\n",
    "p3 = packets_3.sample(n=100)[[\"Source\", \"Destination\", \"Protocol\", \"Length\"]]\n",
    "p4 = packets_4.sample(n=100)[[\"Source\", \"Destination\", \"Protocol\", \"Length\"]]\n",
    "preprocessing(p1, le)\n",
    "preprocessing(p2, le)\n",
    "preprocessing(p3, le)\n",
    "preprocessing(p4, le)"
   ]
  },
  {
   "cell_type": "code",
   "execution_count": 19,
   "metadata": {
    "collapsed": false
   },
   "outputs": [
    {
     "name": "stdout",
     "output_type": "stream",
     "text": [
      "[ 0.9425806   0.00271667  0.          0.05470273]\n",
      "[ 0.00413333  0.99386667  0.002       0.        ]\n",
      "[ 0.00874986  0.09746667  0.88226676  0.01151671]\n",
      "[ 0.07156195  0.001       0.00260014  0.92483792]\n"
     ]
    }
   ],
   "source": [
    "print(np.mean(forest.predict_proba(p1), axis=0))\n",
    "print(np.mean(forest.predict_proba(p2), axis=0))\n",
    "print(np.mean(forest.predict_proba(p3), axis=0))\n",
    "print(np.mean(forest.predict_proba(p4), axis=0))"
   ]
  },
  {
   "cell_type": "markdown",
   "metadata": {},
   "source": [
    "# Сохранение обученной модели на диск"
   ]
  },
  {
   "cell_type": "code",
   "execution_count": 20,
   "metadata": {
    "collapsed": true
   },
   "outputs": [],
   "source": [
    "joblib.dump(forest, DATA_DIR + 'model.pkl') \n",
    "forest_1 = joblib.load(DATA_DIR + 'model.pkl') "
   ]
  },
  {
   "cell_type": "code",
   "execution_count": 21,
   "metadata": {
    "collapsed": true
   },
   "outputs": [],
   "source": [
    "joblib.dump(le, DATA_DIR + 'label_encoder.pkl') \n",
    "label_encoder_1 = joblib.load(DATA_DIR + 'label_encoder.pkl') "
   ]
  },
  {
   "cell_type": "code",
   "execution_count": null,
   "metadata": {
    "collapsed": true
   },
   "outputs": [],
   "source": []
  },
  {
   "cell_type": "code",
   "execution_count": null,
   "metadata": {
    "collapsed": true
   },
   "outputs": [],
   "source": []
  }
 ],
 "metadata": {
  "anaconda-cloud": {},
  "kernelspec": {
   "display_name": "Python [default]",
   "language": "python",
   "name": "python3"
  },
  "language_info": {
   "codemirror_mode": {
    "name": "ipython",
    "version": 3
   },
   "file_extension": ".py",
   "mimetype": "text/x-python",
   "name": "python",
   "nbconvert_exporter": "python",
   "pygments_lexer": "ipython3",
   "version": "3.5.2"
  }
 },
 "nbformat": 4,
 "nbformat_minor": 2
}
