{
 "cells": [
  {
   "cell_type": "code",
   "execution_count": 40,
   "metadata": {
    "collapsed": true
   },
   "outputs": [],
   "source": [
    "DATA_DIR = \"/home/user/newnew/\""
   ]
  },
  {
   "cell_type": "code",
   "execution_count": 41,
   "metadata": {
    "collapsed": false
   },
   "outputs": [
    {
     "name": "stdout",
     "output_type": "stream",
     "text": [
      "Requirement already satisfied: sklearn in /home/user/anaconda3/lib/python3.5/site-packages\r\n",
      "Requirement already satisfied: scikit-learn in /home/user/anaconda3/lib/python3.5/site-packages (from sklearn)\r\n"
     ]
    }
   ],
   "source": [
    "!pip install sklearn\n",
    "import numpy as np\n",
    "import pandas as pd\n",
    "\n",
    "from sklearn.cross_validation import train_test_split\n",
    "from sklearn.preprocessing import LabelEncoder\n",
    "from sklearn.ensemble import RandomForestClassifier\n",
    "from sklearn.metrics import f1_score\n",
    "from sklearn.externals import joblib\n",
    "\n",
    "import socket, struct"
   ]
  },
  {
   "cell_type": "code",
   "execution_count": 42,
   "metadata": {
    "collapsed": true
   },
   "outputs": [],
   "source": [
    "packets_1 = pd.read_csv(DATA_DIR + \"1\")\n",
    "packets_2 = pd.read_csv(DATA_DIR + \"2\")\n",
    "packets_1['uid'] = 1\n",
    "packets_2['uid'] = 2\n",
    "packets = packets_1.append([packets_2])"
   ]
  },
  {
   "cell_type": "code",
   "execution_count": 43,
   "metadata": {
    "collapsed": true
   },
   "outputs": [],
   "source": [
    "def ip2int(addr):                                                               \n",
    "    try:\n",
    "        return struct.unpack(\"!I\", socket.inet_aton(addr))[0]                       \n",
    "    except OSError:\n",
    "        return 0"
   ]
  },
  {
   "cell_type": "code",
   "execution_count": 44,
   "metadata": {
    "collapsed": true
   },
   "outputs": [],
   "source": [
    "def encode(x, enc):\n",
    "    try:\n",
    "        return enc.transform(x)\n",
    "    except ValueError:\n",
    "        return -1"
   ]
  },
  {
   "cell_type": "code",
   "execution_count": 45,
   "metadata": {
    "collapsed": true
   },
   "outputs": [],
   "source": [
    "def preprocessing(packets, label_encoder):\n",
    "    pd.options.mode.chained_assignment = None\n",
    "    packets[\"Source\"] = packets[\"Source\"].apply(lambda ip : ip2int(ip)).astype(np.int32)\n",
    "    packets[\"Destination\"] = packets[\"Destination\"].apply(lambda ip : ip2int(ip)).astype(np.int32)\n",
    "    packets[\"Protocol\"] = packets[\"Protocol\"].apply(lambda x: encode(x, label_encoder))"
   ]
  },
  {
   "cell_type": "code",
   "execution_count": 46,
   "metadata": {
    "collapsed": false
   },
   "outputs": [
    {
     "name": "stdout",
     "output_type": "stream",
     "text": [
      "CPU times: user 704 ms, sys: 16 ms, total: 720 ms\n",
      "Wall time: 710 ms\n"
     ]
    }
   ],
   "source": [
    "%%time\n",
    "le = LabelEncoder().fit(packets[\"Protocol\"])\n",
    "X = packets[[\"Source\", \"Destination\", \"Protocol\", \"Length\"]]\n",
    "preprocessing(X, le)\n",
    "y = packets[\"uid\"]"
   ]
  },
  {
   "cell_type": "code",
   "execution_count": 47,
   "metadata": {
    "collapsed": false
   },
   "outputs": [],
   "source": [
    "X_train, X_holdout, y_train, y_holdout = train_test_split(X, y, test_size=0.3, random_state=17)"
   ]
  },
  {
   "cell_type": "code",
   "execution_count": 49,
   "metadata": {
    "collapsed": false
   },
   "outputs": [
    {
     "name": "stdout",
     "output_type": "stream",
     "text": [
      "0.998331943286\n",
      "CPU times: user 56 ms, sys: 12 ms, total: 68 ms\n",
      "Wall time: 228 ms\n"
     ]
    }
   ],
   "source": [
    "%%time\n",
    "forest = RandomForestClassifier(n_jobs=-1, random_state=17)\n",
    "forest.fit(X_train, y_train)\n",
    "print(f1_score(y_holdout, forest.predict(X_holdout), average='binary'))"
   ]
  },
  {
   "cell_type": "code",
   "execution_count": null,
   "metadata": {
    "collapsed": true
   },
   "outputs": [],
   "source": []
  }
 ],
 "metadata": {
  "anaconda-cloud": {},
  "kernelspec": {
   "display_name": "Python [default]",
   "language": "python",
   "name": "python3"
  },
  "language_info": {
   "codemirror_mode": {
    "name": "ipython",
    "version": 3
   },
   "file_extension": ".py",
   "mimetype": "text/x-python",
   "name": "python",
   "nbconvert_exporter": "python",
   "pygments_lexer": "ipython3",
   "version": "3.5.2"
  }
 },
 "nbformat": 4,
 "nbformat_minor": 2
}
